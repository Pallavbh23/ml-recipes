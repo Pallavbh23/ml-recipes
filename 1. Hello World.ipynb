{
 "cells": [
  {
   "cell_type": "markdown",
   "metadata": {},
   "source": [
    "# Can you write code to tell the difference between an apple and an orange?\n",
    "\n",
    "#### _A problem that sounds very easy but is impossible to solve without machine learning._\n",
    "\n",
    "![Apples&Oranges](https://cdn.shopify.com/s/files/1/0580/0965/products/Tseng_AppleAndOrange_a28c0f98-0dfb-4a0e-9667-a5cb2fe6c85a.jpg)\n",
    "\n",
    "Consider **a program that takes an image as input, does some analysis and outputs the type of fruit**. What would be the basic approach?\n",
    "\n",
    "One could be to write a lot of manual rules. For example, there could be a rule to compare the number of orange pixels to the number of red pixels.\n",
    "\n",
    "But these rules _start to break since real world inputs are messy_. \n",
    "\n",
    "A few questions to ask are:\n",
    "\n",
    "1. What if the image is black and white?\n",
    "2. How would you handle images in which there are no apples/oranges?\n",
    "3. How would you handle images in which there are both of the classes?\n",
    "4. What if the apple is a green apple or a golden apple?\n",
    "\n",
    "There's a very fair possibility that even if a lot of rules are carefully written, exceptions might occur.\n",
    "\n",
    "And all that trouble is just to differentiate between apples and oranges. **If the problem is changed to differentiate between grapes and bananas, one would have to start all over again.**"
   ]
  },
  {
   "cell_type": "markdown",
   "metadata": {},
   "source": [
    "### Machine Learning\n",
    "To solve this problem, we need an algorithm that can figure out these rules for us so that we don't have to write them by hand everytime a new problem occurs. \n",
    "\n",
    "To do that, we're going to train a classifier.\n",
    "\n",
    "**A classifier can be thought of as a function that takes _data as input_ and returns the _class as its output._**\n",
    "\n",
    "For example, one could have a classifier that would classify images as apples or oranges or a classifier that marks an email as spam or not spam."
   ]
  },
  {
   "cell_type": "markdown",
   "metadata": {},
   "source": [
    "The technique to write this classifer automatically is called supervised learning and it begins with the examples of the problem that you want to solve."
   ]
  },
  {
   "cell_type": "code",
   "execution_count": 17,
   "metadata": {},
   "outputs": [],
   "source": [
    "import numpy as np\n",
    "import pandas as pd\n",
    "df = pd.DataFrame(columns = ['Weight', 'Texture', 'Fruit'])\n",
    "df = df.append({'Weight':140,\n",
    "          'Texture': 'smooth',\n",
    "          'Fruit': 'apple'}, ignore_index=True)"
   ]
  },
  {
   "cell_type": "code",
   "execution_count": 19,
   "metadata": {},
   "outputs": [
    {
     "data": {
      "text/html": [
       "<div>\n",
       "<style scoped>\n",
       "    .dataframe tbody tr th:only-of-type {\n",
       "        vertical-align: middle;\n",
       "    }\n",
       "\n",
       "    .dataframe tbody tr th {\n",
       "        vertical-align: top;\n",
       "    }\n",
       "\n",
       "    .dataframe thead th {\n",
       "        text-align: right;\n",
       "    }\n",
       "</style>\n",
       "<table border=\"1\" class=\"dataframe\">\n",
       "  <thead>\n",
       "    <tr style=\"text-align: right;\">\n",
       "      <th></th>\n",
       "      <th>Weight</th>\n",
       "      <th>Texture</th>\n",
       "      <th>Fruit</th>\n",
       "    </tr>\n",
       "  </thead>\n",
       "  <tbody>\n",
       "    <tr>\n",
       "      <td>0</td>\n",
       "      <td>140</td>\n",
       "      <td>smooth</td>\n",
       "      <td>apple</td>\n",
       "    </tr>\n",
       "  </tbody>\n",
       "</table>\n",
       "</div>"
      ],
      "text/plain": [
       "  Weight Texture  Fruit\n",
       "0    140  smooth  apple"
      ]
     },
     "execution_count": 19,
     "metadata": {},
     "output_type": "execute_result"
    }
   ],
   "source": [
    "df"
   ]
  },
  {
   "cell_type": "markdown",
   "metadata": {},
   "source": [
    "# A six-line machine learning code that can solve this problem.\n",
    "\n",
    "To use supervised learning, we'll follow a recipe with a few standard steps.\n",
    "\n",
    "1. Collect training data.\n",
    "2. Train the classifier.\n",
    "3. Make predictions.\n",
    "\n",
    "For our problem, we'll create a classifier to classify a piece of fruit.\n",
    "\n",
    "Take an example where we go to a farm and collect data about apples and oranges and write down the measurements that describe them in a table. Those measurements are called **features.**\n",
    "\n",
    "For simplicity, we'll use 2 features here: \n",
    "1. The weight of the fruit in grams.\n",
    "2. The texture of the fruit.\n",
    "\n",
    "\"A good feature makes it easy to discriminate between different types of fruit\".\n",
    "\n",
    "Each row in our training data is an example. It describes one piece of fruit.\n",
    "\n",
    "The last column is called the label. It identifies what type of fruit is in each row.\n",
    "\n",
    "In this case, there's only two possibilities, apples and oranges. The whole table is our training data. \n",
    "\n",
    "**NOTE:** _The more training data you have, the better a classifier you can create._"
   ]
  },
  {
   "cell_type": "markdown",
   "metadata": {},
   "source": [
    "For now, we'll solve the problem with tabulated data.\n",
    "\n",
    "We'll create 2 lists, features and output.\n",
    "\n",
    "Each element of feature list is a list of its own. The first element is the weight in gms and the second element is the texture. We've converted it to a numerical value so that it can be evaluated. 0 is smooth and 1 is bumpy.\n",
    "\n",
    "We'll also use 0 for apple and 1 for orange in our data."
   ]
  },
  {
   "cell_type": "code",
   "execution_count": 4,
   "metadata": {},
   "outputs": [],
   "source": [
    "# current state of the code.\n",
    "import sklearn\n",
    "features = [[140, 0], [130, 0], [150, 1], [170, 1]]\n",
    "output = [0, 0, 1, 1]"
   ]
  },
  {
   "cell_type": "markdown",
   "metadata": {},
   "source": [
    "### Next, we need to train a classifier. \n",
    "The classifier that we'll be using is called a **decision tree.**\n",
    "For now, it's okay to think of a classifier as a box of rules. That's because there are many different types of classifiers but the input and the output is the same."
   ]
  },
  {
   "cell_type": "code",
   "execution_count": 6,
   "metadata": {},
   "outputs": [
    {
     "name": "stdout",
     "output_type": "stream",
     "text": [
      "[1]\n"
     ]
    }
   ],
   "source": [
    "#current state of the code.\n",
    "from sklearn import tree\n",
    "features = [[140, 0], [130, 0], [150, 1], [170, 1]]\n",
    "outputs = [0, 0, 1, 1]\n",
    "# At this point of time, our classifier is just an empty box since it doesn't know about apples and oranges yet. \n",
    "clf = tree.DecisionTreeClassifier() \n",
    "# To train it, we'll need a learning algorithm.\n",
    "clf.fit(features, output) #fits the data or to put it simply, trains the classifier on the given data.\n",
    "print(clf.predict([[150, 0]]))"
   ]
  },
  {
   "cell_type": "markdown",
   "metadata": {},
   "source": [
    "## Finished!\n",
    "\n",
    "We finally created our first classifier. A decision tree classifier can now predict if a fruit is an apple or an orange given the weight and the texture of the fruit. \n",
    "\n",
    "**NOTE:** This was just sample data. In real-life situations, we have more data and the predictions are more accurate. There's also a lot of data so there are other challenges associated with it."
   ]
  },
  {
   "cell_type": "markdown",
   "metadata": {},
   "source": []
  }
 ],
 "metadata": {
  "kernelspec": {
   "display_name": "Python 3",
   "language": "python",
   "name": "python3"
  },
  "language_info": {
   "codemirror_mode": {
    "name": "ipython",
    "version": 3
   },
   "file_extension": ".py",
   "mimetype": "text/x-python",
   "name": "python",
   "nbconvert_exporter": "python",
   "pygments_lexer": "ipython3",
   "version": "3.7.4"
  }
 },
 "nbformat": 4,
 "nbformat_minor": 2
}
